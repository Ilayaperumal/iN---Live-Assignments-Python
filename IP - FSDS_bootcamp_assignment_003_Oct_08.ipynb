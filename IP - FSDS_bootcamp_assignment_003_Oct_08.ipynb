{
 "cells": [
  {
   "cell_type": "markdown",
   "id": "ea9b9255",
   "metadata": {},
   "source": [
    "# FSDS_bootcamp_assignment_003_Oct_08"
   ]
  },
  {
   "cell_type": "markdown",
   "id": "2fee4876",
   "metadata": {},
   "source": [
    "# Python String Manipulation"
   ]
  },
  {
   "cell_type": "code",
   "execution_count": 1,
   "id": "d3233eac",
   "metadata": {},
   "outputs": [],
   "source": [
    "# Qn 1 . Count the number of times iNeuron appears in the string.\n",
    "\n",
    "# text = \"Welcome to iNeuron, You are a part of FSDS Bootcamp 2 in iNeuron. I hope you are enjoying the course by iNeuron\""
   ]
  },
  {
   "cell_type": "code",
   "execution_count": 2,
   "id": "13fdf540",
   "metadata": {},
   "outputs": [
    {
     "name": "stdout",
     "output_type": "stream",
     "text": [
      "The number of times iNeuron appears in the string: 3\n"
     ]
    }
   ],
   "source": [
    "# define the given string\n",
    "string = \"Welcome to iNeuron, You are a part of FSDS Bootcamp 2 in iNeuron. I hope you are enjoying the course by iNeuron\"\n",
    "substring = \"iNeuron\"\n",
    "\n",
    "count = string.count(substring)\n",
    "\n",
    "# the number of times iNeuron appears\n",
    "print(f\"The number of times iNeuron appears in the string: {count}\")"
   ]
  },
  {
   "cell_type": "code",
   "execution_count": 3,
   "id": "d38192e8",
   "metadata": {},
   "outputs": [],
   "source": [
    "# Qn 2. Check if position 5 to 11 ends with the phrase iNeuron. in the string\n",
    "\n",
    "# txt = \"Hello, welcome to FSDS 2.0 at iNeuron.\""
   ]
  },
  {
   "cell_type": "code",
   "execution_count": 4,
   "id": "2aaf5809",
   "metadata": {},
   "outputs": [
    {
     "name": "stdout",
     "output_type": "stream",
     "text": [
      "False\n"
     ]
    }
   ],
   "source": [
    "string = \"Hello, welcome to FSDS 2.0 at iNeuron.\"\n",
    "\n",
    "n = string.endswith(\"iNeuron.\", 5, 11)\n",
    "\n",
    "print(n)"
   ]
  },
  {
   "cell_type": "code",
   "execution_count": null,
   "id": "c3a9196a",
   "metadata": {},
   "outputs": [],
   "source": [
    "# Qn 3: Write a program that takes your full name as input and displays the abbreviations of the first and middle names except the last name which is displayed as it is. \n",
    "# For example, if your name is Sunny Bhaveen Chandra, then the output should be S.B.Chandra."
   ]
  },
  {
   "cell_type": "code",
   "execution_count": 35,
   "id": "de58db73",
   "metadata": {},
   "outputs": [
    {
     "name": "stdout",
     "output_type": "stream",
     "text": [
      "Enter your name:K ILAYA PERUMAL\n",
      "K.I.PERUMAL\n"
     ]
    }
   ],
   "source": [
    "name = input(\"Enter your name:\")\n",
    "first_name, middle_name, sur_name = name.split(\" \")\n",
    "\n",
    "abbr_name = (first_name[0], middle_name[0], sur_name)\n",
    "short_name = \".\".join(abbr_name)\n",
    "print(f\"{short_name}\")"
   ]
  },
  {
   "cell_type": "code",
   "execution_count": null,
   "id": "48de0976",
   "metadata": {},
   "outputs": [],
   "source": [
    "#Qn 4: Join all items in a list into a string, using a hash(#) character as separator:\n",
    "\n",
    "#LIST = [\"My\", \"name\", \"is\", \"Rishav\", \"Dash\"]"
   ]
  },
  {
   "cell_type": "code",
   "execution_count": 12,
   "id": "0825534f",
   "metadata": {},
   "outputs": [
    {
     "data": {
      "text/plain": [
       "'My#name#is#Ilaya#Perumal'"
      ]
     },
     "execution_count": 12,
     "metadata": {},
     "output_type": "execute_result"
    }
   ],
   "source": [
    "l = [\"My\", \"name\", \"is\", \"Ilaya\", \"Perumal\"]\n",
    "name = l\n",
    "\"#\".join(name)"
   ]
  },
  {
   "cell_type": "code",
   "execution_count": null,
   "id": "cb56f8c5",
   "metadata": {},
   "outputs": [],
   "source": [
    "# Qn 5: Write example for the following string manipulation function,\n",
    "\n",
    "#- isdecimal()\n",
    "#- islower()\n",
    "#- isupper()\n",
    "#- isalpha()\n",
    "#- isnumeric()"
   ]
  },
  {
   "cell_type": "code",
   "execution_count": 14,
   "id": "8be8f5ab",
   "metadata": {},
   "outputs": [
    {
     "data": {
      "text/plain": [
       "True"
      ]
     },
     "execution_count": 14,
     "metadata": {},
     "output_type": "execute_result"
    }
   ],
   "source": [
    "name = \"12345\"\n",
    "\n",
    "name.isdecimal()"
   ]
  },
  {
   "cell_type": "code",
   "execution_count": 15,
   "id": "776e6fd4",
   "metadata": {},
   "outputs": [
    {
     "data": {
      "text/plain": [
       "False"
      ]
     },
     "execution_count": 15,
     "metadata": {},
     "output_type": "execute_result"
    }
   ],
   "source": [
    "name = \"Ilaya perumal\"\n",
    "\n",
    "name.islower()"
   ]
  },
  {
   "cell_type": "code",
   "execution_count": 16,
   "id": "a4e230e8",
   "metadata": {},
   "outputs": [
    {
     "data": {
      "text/plain": [
       "True"
      ]
     },
     "execution_count": 16,
     "metadata": {},
     "output_type": "execute_result"
    }
   ],
   "source": [
    "name = \"ILAYA\"\n",
    "\n",
    "name.isupper()"
   ]
  },
  {
   "cell_type": "code",
   "execution_count": 18,
   "id": "a2845203",
   "metadata": {},
   "outputs": [
    {
     "data": {
      "text/plain": [
       "True"
      ]
     },
     "execution_count": 18,
     "metadata": {},
     "output_type": "execute_result"
    }
   ],
   "source": [
    "name = \"Ilayaperumal\"\n",
    "\n",
    "name.isalpha()"
   ]
  },
  {
   "cell_type": "code",
   "execution_count": 19,
   "id": "ef1c83c6",
   "metadata": {},
   "outputs": [
    {
     "data": {
      "text/plain": [
       "False"
      ]
     },
     "execution_count": 19,
     "metadata": {},
     "output_type": "execute_result"
    }
   ],
   "source": [
    "name = \"Ilayaperumal\"\n",
    "\n",
    "name.isnumeric()"
   ]
  },
  {
   "cell_type": "code",
   "execution_count": null,
   "id": "34c641da",
   "metadata": {},
   "outputs": [],
   "source": []
  },
  {
   "cell_type": "code",
   "execution_count": null,
   "id": "08acdfa7",
   "metadata": {},
   "outputs": [],
   "source": [
    "# Qn 6:Indian PAN card format follows the following formats - AYEPC7894X & ABCDE9999Y \n",
    "# Take user input for PAN_CARD and validate as per the above example. "
   ]
  },
  {
   "cell_type": "code",
   "execution_count": 30,
   "id": "74f628ab",
   "metadata": {},
   "outputs": [
    {
     "name": "stdout",
     "output_type": "stream",
     "text": [
      "Enter your PAN number:AYEPC7894X\n",
      "AYEPC7894X is a valid PAN number\n"
     ]
    }
   ],
   "source": [
    "pan = input(\"Enter your PAN number:\")\n",
    "a = pan[0:5]\n",
    "b = pan[9:10]\n",
    "c = pan[5:9]\n",
    "if len(pan)==10:    \n",
    "    if pan.isupper()==True and a.isalpha()==True and b.isalpha()==True and c.isdigit()==True:       \n",
    "        print(f\"{pan} is a valid PAN number\")  \n",
    "    else  :          \n",
    "        print(\"Invalid. Please enter Correct PAN number\")\n",
    "else :    \n",
    "    print(\"Please enter 10 Characters\")"
   ]
  }
 ],
 "metadata": {
  "kernelspec": {
   "display_name": "Python 3 (ipykernel)",
   "language": "python",
   "name": "python3"
  },
  "language_info": {
   "codemirror_mode": {
    "name": "ipython",
    "version": 3
   },
   "file_extension": ".py",
   "mimetype": "text/x-python",
   "name": "python",
   "nbconvert_exporter": "python",
   "pygments_lexer": "ipython3",
   "version": "3.9.12"
  }
 },
 "nbformat": 4,
 "nbformat_minor": 5
}
