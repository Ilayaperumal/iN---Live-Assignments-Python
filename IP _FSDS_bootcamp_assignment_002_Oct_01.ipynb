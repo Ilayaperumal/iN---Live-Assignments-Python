{
 "cells": [
  {
   "cell_type": "markdown",
   "id": "e440dd02",
   "metadata": {},
   "source": [
    "# ILAYAPERUMAL _FSDS_bootcamp_assignment_002_Oct_01"
   ]
  },
  {
   "cell_type": "markdown",
   "id": "ab3fe0fa",
   "metadata": {},
   "source": [
    "## Question No 1"
   ]
  },
  {
   "cell_type": "code",
   "execution_count": 1,
   "id": "82192175",
   "metadata": {},
   "outputs": [
    {
     "ename": "IndentationError",
     "evalue": "expected an indented block (830646051.py, line 10)",
     "output_type": "error",
     "traceback": [
      "\u001b[1;36m  Input \u001b[1;32mIn [1]\u001b[1;36m\u001b[0m\n\u001b[1;33m    print(\"Lets do work from home\") # This statemen exectuted\u001b[0m\n\u001b[1;37m    ^\u001b[0m\n\u001b[1;31mIndentationError\u001b[0m\u001b[1;31m:\u001b[0m expected an indented block\n"
     ]
    }
   ],
   "source": [
    "# 1. What is indentation error? Why indentation is important? Give one simple example?\n",
    "\n",
    "# Statements not aligned properlty will give Indentation error. The indentation error is the absence of tabs and or whitespaces between lines of code. \n",
    "# Missing to indenting the compound statements such as for, while and if will lead to an indentation error. \n",
    "# Every new iteration (i.e., a block of code) should start with an indentation, and the ending of the code should be the first-line that is not indented.\n",
    "# The following Program Will give Indentation error.\n",
    "raining = True\n",
    "\n",
    "if raining: # TRUE CONDITION \n",
    "print(\"Lets do work from home\") # This statemen exectuted\n",
    "else:\n",
    "print(\"Lets go to office\")\n",
    "\n"
   ]
  },
  {
   "cell_type": "code",
   "execution_count": 2,
   "id": "35898714",
   "metadata": {},
   "outputs": [
    {
     "name": "stdout",
     "output_type": "stream",
     "text": [
      "Lets go to office\n"
     ]
    }
   ],
   "source": [
    "# Corrected Program:\n",
    "raining = False\n",
    "\n",
    "if raining: # TRUE CONDITION \n",
    "    print(\"Lets do work from home\") # This statemen exectuted\n",
    "else:\n",
    "    print(\"Lets go to office\")"
   ]
  },
  {
   "cell_type": "markdown",
   "id": "ac69d7e2",
   "metadata": {},
   "source": [
    "## Question No 2"
   ]
  },
  {
   "cell_type": "code",
   "execution_count": 3,
   "id": "9952c4fc",
   "metadata": {},
   "outputs": [
    {
     "name": "stdout",
     "output_type": "stream",
     "text": [
      "Hey friend, is class started?: [0-False/1-True]\n",
      "Since class is not started...\n",
      "let's revise\n"
     ]
    }
   ],
   "source": [
    "#2. Correct the following code and write the comment where you made the correction?\n",
    "\n",
    "class_started = (input(\"Hey friend, is class started?: [0-False/1-True]\"))\n",
    "\n",
    "if class_started:\n",
    "    print(\"Since class started...\")\n",
    "    print(\"Lets concentrate\")\n",
    "else:\n",
    "    print(\"Since class is not started...\")\n",
    "    print(\"let's revise\") "
   ]
  },
  {
   "cell_type": "code",
   "execution_count": null,
   "id": "eed4d148",
   "metadata": {},
   "outputs": [],
   "source": []
  },
  {
   "cell_type": "markdown",
   "id": "65f36633",
   "metadata": {},
   "source": [
    "## Question No 3"
   ]
  },
  {
   "cell_type": "code",
   "execution_count": null,
   "id": "f7fa6fc0",
   "metadata": {},
   "outputs": [],
   "source": [
    "# 3. Use if else condition to verify that dataype of `input()` method in python is always string."
   ]
  },
  {
   "cell_type": "code",
   "execution_count": 52,
   "id": "a0285d29",
   "metadata": {},
   "outputs": [
    {
     "name": "stdout",
     "output_type": "stream",
     "text": [
      "346\n",
      "your variable is a string\n"
     ]
    }
   ],
   "source": [
    "a = input()\n",
    "if type(a) == str:\n",
    "    print('your variable is a string')\n",
    "else:\n",
    "    print('your variable IS NOT a string')"
   ]
  },
  {
   "cell_type": "code",
   "execution_count": null,
   "id": "3c3307c8",
   "metadata": {},
   "outputs": [],
   "source": [
    "# I am unable to understand this question. tried somthing. I am getting a wrong answer. Please teach me this."
   ]
  },
  {
   "cell_type": "markdown",
   "id": "50438d68",
   "metadata": {},
   "source": [
    "## Question No 4"
   ]
  },
  {
   "cell_type": "code",
   "execution_count": null,
   "id": "0f2b276b",
   "metadata": {},
   "outputs": [],
   "source": [
    "# 4. Take 3 variables and assign integer values to them. Find the largest variable, by only using the if and else conditions."
   ]
  },
  {
   "cell_type": "code",
   "execution_count": 4,
   "id": "59f068fe",
   "metadata": {},
   "outputs": [
    {
     "name": "stdout",
     "output_type": "stream",
     "text": [
      "Enter first number: 7\n",
      "Enter second number: 9\n",
      "Enter third number: 3\n",
      "The largest number is 9\n"
     ]
    }
   ],
   "source": [
    "a = int(input(\"Enter first number: \"))\n",
    "b = int(input(\"Enter second number: \"))\n",
    "c = int(input(\"Enter third number: \"))\n",
    "\n",
    "if (a >= b) and (a >= c):\n",
    "   largest = a\n",
    "elif (b >= a) and (b >= c):\n",
    "   largest = b\n",
    "else:\n",
    "   largest = c\n",
    "\n",
    "print(\"The largest number is\", largest)"
   ]
  },
  {
   "cell_type": "markdown",
   "id": "de495dff",
   "metadata": {},
   "source": [
    "## Question No 5"
   ]
  },
  {
   "cell_type": "code",
   "execution_count": null,
   "id": "49a51bcd",
   "metadata": {},
   "outputs": [],
   "source": [
    "#5. What would be the solution?\n",
    "#    1. True\n",
    "#    2. False\n",
    "\n",
    "#  a = 6\n",
    "# b = 10\n",
    "#print( not ( not a == 10 or not b == 10) )\n",
    "\n",
    "# Answer is False. Answer will be True when a = 10 and b = 10"
   ]
  },
  {
   "cell_type": "code",
   "execution_count": 8,
   "id": "0bab60ae",
   "metadata": {},
   "outputs": [
    {
     "name": "stdout",
     "output_type": "stream",
     "text": [
      "False\n"
     ]
    }
   ],
   "source": [
    "    a = 6\n",
    "    b = 10\n",
    "    print( not ( not a == 10 or not b == 10) )"
   ]
  },
  {
   "cell_type": "code",
   "execution_count": null,
   "id": "0e33bcd4",
   "metadata": {},
   "outputs": [],
   "source": [
    "# Answer is False. Answer will be True when a = 10 and b = 10"
   ]
  },
  {
   "cell_type": "markdown",
   "id": "ca672536",
   "metadata": {},
   "source": [
    "## Question No 6"
   ]
  },
  {
   "cell_type": "code",
   "execution_count": null,
   "id": "2fe287ca",
   "metadata": {},
   "outputs": [],
   "source": [
    "# 6. Find the answer as well as find out the reason behind the result? -\n",
    "#case 1:\n",
    "#        A = 5.0\n",
    "#        B = 10/2\n",
    "#        print(A is B)\n",
    "#case 2:\n",
    "#        A = 5.0\n",
    "#        B = int(10/2)\n",
    "#        print(A is B)\n",
    "#case 3:\n",
    "#        A = 5.0\n",
    "#        B = float(10/2)\n",
    "#        print(A is B)"
   ]
  },
  {
   "cell_type": "code",
   "execution_count": 13,
   "id": "e0e7c4c6",
   "metadata": {},
   "outputs": [
    {
     "name": "stdout",
     "output_type": "stream",
     "text": [
      "False\n"
     ]
    }
   ],
   "source": [
    "# Case 1\n",
    "A = 5.0\n",
    "B = 10/2\n",
    "print(A is B)"
   ]
  },
  {
   "cell_type": "code",
   "execution_count": null,
   "id": "715a9766",
   "metadata": {},
   "outputs": [],
   "source": [
    "#case 1:\n",
    "#        A = 5.0\n",
    "#        B = 10/2\n",
    "#        print(A is B)\n",
    "# The output is False. It is false since B is an integer."
   ]
  },
  {
   "cell_type": "code",
   "execution_count": 14,
   "id": "0839989c",
   "metadata": {},
   "outputs": [
    {
     "name": "stdout",
     "output_type": "stream",
     "text": [
      "False\n"
     ]
    }
   ],
   "source": [
    "#case 2:\n",
    "A = 5.0\n",
    "B = int(10/2)\n",
    "print(A is B)"
   ]
  },
  {
   "cell_type": "code",
   "execution_count": null,
   "id": "0739d984",
   "metadata": {},
   "outputs": [],
   "source": [
    "#case 2:\n",
    "# A = 5.0\n",
    "# B = int(10/2)\n",
    "# print(A is B)\n",
    "# The output is False. The output will be true, if A = 5 (an integer)"
   ]
  },
  {
   "cell_type": "code",
   "execution_count": 19,
   "id": "dff58454",
   "metadata": {},
   "outputs": [
    {
     "name": "stdout",
     "output_type": "stream",
     "text": [
      "False\n"
     ]
    }
   ],
   "source": [
    "#case 3:\n",
    "A = 5.0\n",
    "B = float(10/2)\n",
    "print(A is B)\n"
   ]
  },
  {
   "cell_type": "code",
   "execution_count": null,
   "id": "2e3e001c",
   "metadata": {},
   "outputs": [],
   "source": [
    "#case 3:\n",
    "# A = 5.0\n",
    "# B = float(10/2)\n",
    "# print(A is B)\n",
    "# The output is True. "
   ]
  },
  {
   "cell_type": "markdown",
   "id": "9edc2b33",
   "metadata": {},
   "source": [
    "## Question No 7"
   ]
  },
  {
   "cell_type": "code",
   "execution_count": null,
   "id": "cc6dfba6",
   "metadata": {},
   "outputs": [],
   "source": [
    "#7. Write a program that asks the user to enter a number. \n",
    "#You should print out a message to the user, either “That number is divisible by either 3 or 5”, or #“That number is not divisible by either 3 or 5”. \n",
    "#Be sure to consider the data type of the input you are taking in from the user. \n",
    "#Use a single if/else block to solve this problem."
   ]
  },
  {
   "cell_type": "code",
   "execution_count": 2,
   "id": "81e4508b",
   "metadata": {},
   "outputs": [
    {
     "name": "stdout",
     "output_type": "stream",
     "text": [
      "Enter the Number: 22\n",
      "That number is not divisible by either 3 or 5\n"
     ]
    }
   ],
   "source": [
    "number = int(input(\"Enter the Number: \"))\n",
    "\n",
    "if((number % 3 == 0) or (number % 7 == 0)):\n",
    "    print(\"That number is divisible by either 3 or 5\")\n",
    "else:\n",
    "    print(\"That number is not divisible by either 3 or 5\")"
   ]
  },
  {
   "cell_type": "markdown",
   "id": "9a2ebce1",
   "metadata": {},
   "source": [
    "## Question No 8"
   ]
  },
  {
   "cell_type": "code",
   "execution_count": null,
   "id": "27f95d0e",
   "metadata": {},
   "outputs": [],
   "source": [
    "# 8. Take user input for length and width. Then calculate the area of rectangle. \n",
    "# Also print as per length and width whether its a square of rectangle."
   ]
  },
  {
   "cell_type": "code",
   "execution_count": 21,
   "id": "03abc838",
   "metadata": {},
   "outputs": [
    {
     "name": "stdout",
     "output_type": "stream",
     "text": [
      "Enter the length of a Rectangle: 5\n",
      "Enter the width of a Rectangle: 5\n",
      "Area of a Rectangle is: 25.00\n",
      "Since all the sides are equal, it is a Square\n"
     ]
    }
   ],
   "source": [
    "l = int(input('Enter the length of a Rectangle: '))\n",
    "b = int(input('Enter the width of a Rectangle: '))\n",
    "Area = l * b\n",
    "print(\"Area of a Rectangle is: %.2f\" %Area)\n",
    "if (l==b):\n",
    "    print(\"Since all the sides are equal, it is a Square\")\n",
    "else:\n",
    "    print(\"It is a Rectangle\")"
   ]
  },
  {
   "cell_type": "markdown",
   "id": "88d78540",
   "metadata": {},
   "source": [
    "## Question No 9"
   ]
  },
  {
   "cell_type": "code",
   "execution_count": null,
   "id": "c272f3e2",
   "metadata": {},
   "outputs": [],
   "source": [
    "# 9. Take two variable radius_1 and radius_2 and calculate the area of circle_1 and circle_2. \n",
    "# Also print which circle has large area. If area is equal then print area is equal."
   ]
  },
  {
   "cell_type": "code",
   "execution_count": 30,
   "id": "dabe9b84",
   "metadata": {},
   "outputs": [
    {
     "name": "stdout",
     "output_type": "stream",
     "text": [
      "Enter the radius of circle_1: 5\n",
      "Enter the radius of circle_2: 7\n",
      "Area of a circle 1 is: 78.57\n",
      "Area of a circle 2 is: 154.00\n",
      "Circle 2 is Larger\n"
     ]
    }
   ],
   "source": [
    "radius_1 = int(input('Enter the radius of circle_1: '))\n",
    "radius_2 = int(input('Enter the radius of circle_2: '))\n",
    "Area1 = (22/7) * radius_1 * radius_1\n",
    "Area2 = (22/7) * radius_2 * radius_2\n",
    "print(\"Area of a circle 1 is: %.2f\" %Area1)\n",
    "print(\"Area of a circle 2 is: %.2f\" %Area2)\n",
    "if (radius_1==radius_2):\n",
    "    print(\"Areas are Equal\")\n",
    "else:\n",
    "    if (radius_1>radius_2):\n",
    "        print(\"circle 1 is Larger\")\n",
    "    else:\n",
    "        print(\"Circle 2 is Larger\")"
   ]
  },
  {
   "cell_type": "markdown",
   "id": "0512196b",
   "metadata": {},
   "source": [
    "## Question No 10"
   ]
  },
  {
   "cell_type": "code",
   "execution_count": null,
   "id": "e5e7cac4",
   "metadata": {},
   "outputs": [],
   "source": [
    "#10. Check whether a year is leap year or not. Use nested if...else to solve this problem. \n",
    "# A leap year is exactly divisible by 4 except for century years (years ending with 00). \n",
    "# The century year is a leap year only if it is perfectly divisible by 400."
   ]
  },
  {
   "cell_type": "code",
   "execution_count": 53,
   "id": "dccfdd56",
   "metadata": {},
   "outputs": [
    {
     "name": "stdout",
     "output_type": "stream",
     "text": [
      "Enter the year: 2022\n",
      "2022 is not a Leap Year\n"
     ]
    }
   ],
   "source": [
    "# Python program to check leap year or not\n",
    "def check_Year(year):\n",
    "    if (year % 4) == 0:\n",
    "        if (year % 100) == 0:\n",
    "            if (year % 400) == 0:\n",
    "                return True\n",
    "            else:\n",
    "                return False\n",
    "        else:\n",
    "             return True\n",
    "    else:\n",
    "        return False\n",
    " \n",
    "\n",
    "year = int(input('Enter the year: '))\n",
    "if(check_Year(year)):\n",
    "    print(\"%i is a Leap Year\" %year)\n",
    "else:\n",
    "    print(\"%i is not a Leap Year\" %year)"
   ]
  }
 ],
 "metadata": {
  "kernelspec": {
   "display_name": "Python 3 (ipykernel)",
   "language": "python",
   "name": "python3"
  },
  "language_info": {
   "codemirror_mode": {
    "name": "ipython",
    "version": 3
   },
   "file_extension": ".py",
   "mimetype": "text/x-python",
   "name": "python",
   "nbconvert_exporter": "python",
   "pygments_lexer": "ipython3",
   "version": "3.9.12"
  }
 },
 "nbformat": 4,
 "nbformat_minor": 5
}
