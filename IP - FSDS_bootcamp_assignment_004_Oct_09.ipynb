{
 "cells": [
  {
   "cell_type": "markdown",
   "id": "416b60d2",
   "metadata": {},
   "source": [
    "# FSDS_bootcamp_assignment_004_Oct_09"
   ]
  },
  {
   "cell_type": "markdown",
   "id": "4f9df0b2",
   "metadata": {},
   "source": [
    "## control flow and conditional statements"
   ]
  },
  {
   "cell_type": "code",
   "execution_count": 1,
   "id": "0237f941",
   "metadata": {},
   "outputs": [],
   "source": [
    "# Q1. Find the largest number from the given list, use for loop.\n",
    "\n",
    "# numbers = [12, 75, 150, 180, 145, 525, 50]"
   ]
  },
  {
   "cell_type": "code",
   "execution_count": 2,
   "id": "54e8ea2f",
   "metadata": {},
   "outputs": [
    {
     "name": "stdout",
     "output_type": "stream",
     "text": [
      "The largest number is 525\n"
     ]
    }
   ],
   "source": [
    "numbers = [12, 75, 150, 180, 145, 525, 50]\n",
    "\n",
    "large = numbers[0]\n",
    "\n",
    "for i in numbers:\n",
    "    if i > large:\n",
    "        large = i\n",
    "    \n",
    "print(f\"The largest number is {large}\")"
   ]
  },
  {
   "cell_type": "code",
   "execution_count": 3,
   "id": "e4c4858d",
   "metadata": {},
   "outputs": [],
   "source": [
    "# Q2. Print all the even number between (1, 12)."
   ]
  },
  {
   "cell_type": "code",
   "execution_count": 4,
   "id": "454ee098",
   "metadata": {},
   "outputs": [
    {
     "name": "stdout",
     "output_type": "stream",
     "text": [
      "Enter the start of range: 1\n",
      "Enter the end of range: 12\n",
      "2 4 6 8 10 12 "
     ]
    }
   ],
   "source": [
    "start = int(input(\"Enter the start of range: \"))\n",
    "end = int(input(\"Enter the end of range: \"))\n",
    "\n",
    "for num in range(start, end + 1):\n",
    " \n",
    "    # checking condition\n",
    "    if num % 2 == 0:\n",
    "        print(num, end=\" \")"
   ]
  },
  {
   "cell_type": "code",
   "execution_count": 5,
   "id": "bfd48382",
   "metadata": {},
   "outputs": [],
   "source": [
    "# Q3. Calculate the sum of all numbers from 1 to a given number"
   ]
  },
  {
   "cell_type": "code",
   "execution_count": 6,
   "id": "259043c1",
   "metadata": {},
   "outputs": [
    {
     "name": "stdout",
     "output_type": "stream",
     "text": [
      "Enter number: 10\n",
      "Sum of all numbers from 1 to 10 is: 55 \n"
     ]
    }
   ],
   "source": [
    "number = int(input(\"Enter number: \"))\n",
    "sum = 0\n",
    "for num in range(1, number + 1, 1):\n",
    "    sum = sum + num\n",
    "print(f\"Sum of all numbers from 1 to {number} is: {sum} \")"
   ]
  },
  {
   "cell_type": "code",
   "execution_count": 7,
   "id": "7042f3f5",
   "metadata": {},
   "outputs": [],
   "source": [
    "# Q4. Write a program to display only those numbers from a list that satisfy the following conditions\n",
    "#The number must be divisible by five\n",
    "#If the number is greater than 150, then skip it and move to the next number\n",
    "#If the number is greater than 500, then stop the loop\n",
    "# Given: numbers = [12, 75, 150, 180, 145, 525, 50]"
   ]
  },
  {
   "cell_type": "code",
   "execution_count": 8,
   "id": "1521b3a9",
   "metadata": {},
   "outputs": [
    {
     "name": "stdout",
     "output_type": "stream",
     "text": [
      "The numbers satidfy the given conditions are : [75, 150, 145]\n"
     ]
    }
   ],
   "source": [
    "numbers = [12, 75, 150, 180, 145, 525, 50]\n",
    "result = []\n",
    "for i in numbers:\n",
    "    if i > 150:\n",
    "        if i > 500:\n",
    "            break\n",
    "        continue\n",
    "    if i % 5 == 0:\n",
    "        result.append(i)\n",
    "        \n",
    "print(f\"The numbers satidfy the given conditions are : {result}\")"
   ]
  },
  {
   "cell_type": "code",
   "execution_count": 9,
   "id": "1c971eae",
   "metadata": {},
   "outputs": [],
   "source": [
    "# Q5. Print the given list in reverse order.\n",
    "# list1 = [10, 20, 30, 40, 50]"
   ]
  },
  {
   "cell_type": "code",
   "execution_count": 10,
   "id": "c19c804f",
   "metadata": {},
   "outputs": [
    {
     "name": "stdout",
     "output_type": "stream",
     "text": [
      "[50, 40, 30, 20, 10]\n"
     ]
    }
   ],
   "source": [
    "list1 = [10, 20, 30, 40, 50]\n",
    "reverse_order = list1[::-1]\n",
    "print(f\"{reverse_order}\")"
   ]
  }
 ],
 "metadata": {
  "kernelspec": {
   "display_name": "Python 3 (ipykernel)",
   "language": "python",
   "name": "python3"
  },
  "language_info": {
   "codemirror_mode": {
    "name": "ipython",
    "version": 3
   },
   "file_extension": ".py",
   "mimetype": "text/x-python",
   "name": "python",
   "nbconvert_exporter": "python",
   "pygments_lexer": "ipython3",
   "version": "3.9.12"
  }
 },
 "nbformat": 4,
 "nbformat_minor": 5
}
